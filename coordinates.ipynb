{
 "cells": [
  {
   "cell_type": "code",
   "execution_count": 1,
   "metadata": {},
   "outputs": [],
   "source": [
    "import numpy as np\n",
    "from sympy import * \n",
    "import matplotlib.pyplot as plt"
   ]
  },
  {
   "cell_type": "code",
   "execution_count": 4,
   "metadata": {},
   "outputs": [],
   "source": [
    "rational = lambda x: all(i.exp.is_Integer for i in x.atoms(Pow))\n",
    "\n",
    "def check_value_fmt(val):\n",
    "    if rational(val):\n",
    "         return \"{}\".format(float(val)) \n",
    "    else:\n",
    "        if val>0:\n",
    "            return \"{}\".format(val).replace(\"sqrt\", \"Math.sqrt\")\n",
    "        else:\n",
    "            return \"-{}\".format(abs(val)).replace(\"sqrt\", \"Math.sqrt\")\n",
    "            \n",
    "    \n",
    "def getshapevalues(height_value, vertices=8, width=1):\n",
    "    coords = []\n",
    "    for ind, value  in enumerate(range(vertices+1), start=1):\n",
    "        x = cos(2*value*pi/vertices) * width\n",
    "        y = sin(2*value*pi/vertices) * width\n",
    "        x_fmt = check_value_fmt(x)\n",
    "        y_fmt = check_value_fmt(y)\n",
    "        print(\"vec4({}, {}, {}, 1.0)\".format(x_fmt, y_fmt, height_value))\n",
    "        coords.append([np.cos(2*value*np.pi/vertices)*width, np.sin(2*value*np.pi/vertices)*width])\n",
    "    return coords\n",
    "\n",
    "def plot_octagon(coords):\n",
    "    xs, ys = zip(*coords) #create lists of x and y values\n",
    "    plt.plot(xs,ys) \n",
    "    plt.axes().set_aspect('equal')\n",
    "    plt.show() # if you need..."
   ]
  },
  {
   "cell_type": "markdown",
   "metadata": {},
   "source": [
    "# Bottom Octagon"
   ]
  },
  {
   "cell_type": "code",
   "execution_count": 5,
   "metadata": {},
   "outputs": [
    {
     "name": "stdout",
     "output_type": "stream",
     "text": [
      "vec4(3.0, 0.0, 1.0, 1.0)\n",
      "vec4(3*Math.sqrt(2)/2, 3*Math.sqrt(2)/2, 1.0, 1.0)\n",
      "vec4(0.0, 3.0, 1.0, 1.0)\n",
      "vec4(-3*Math.sqrt(2)/2, 3*Math.sqrt(2)/2, 1.0, 1.0)\n",
      "vec4(-3.0, 0.0, 1.0, 1.0)\n",
      "vec4(-3*Math.sqrt(2)/2, -3*Math.sqrt(2)/2, 1.0, 1.0)\n",
      "vec4(0.0, -3.0, 1.0, 1.0)\n",
      "vec4(3*Math.sqrt(2)/2, -3*Math.sqrt(2)/2, 1.0, 1.0)\n",
      "vec4(3.0, 0.0, 1.0, 1.0)\n"
     ]
    },
    {
     "name": "stderr",
     "output_type": "stream",
     "text": [
      "/usr/local/lib/python3.7/site-packages/ipykernel_launcher.py:27: MatplotlibDeprecationWarning: Adding an axes using the same arguments as a previous axes currently reuses the earlier instance.  In a future version, a new instance will always be created and returned.  Meanwhile, this warning can be suppressed, and the future behavior ensured, by passing a unique label to each axes instance.\n"
     ]
    },
    {
     "data": {
      "image/png": "[encoded data removed]",
      "text/plain": [
       "<Figure size 432x288 with 1 Axes>"
      ]
     },
     "metadata": {
      "needs_background": "light"
     },
     "output_type": "display_data"
    }
   ],
   "source": [
    "coords = getshapevalues(height_value=1.0, width=3)\n",
    "plot_octagon(coords)"
   ]
  },
  {
   "cell_type": "markdown",
   "metadata": {},
   "source": [
    "### Central lower"
   ]
  },
  {
   "cell_type": "code",
   "execution_count": null,
   "metadata": {},
   "outputs": [],
   "source": [
    "coords = getshapevalues(height_value=3.0, width=1)\n",
    "plot_octagon(coords)"
   ]
  },
  {
   "cell_type": "markdown",
   "metadata": {},
   "source": [
    "### Central upper"
   ]
  },
  {
   "cell_type": "code",
   "execution_count": null,
   "metadata": {},
   "outputs": [],
   "source": [
    "coords = getshapevalues(height_value=1.0, width=3)\n",
    "plot_octagon(coords)"
   ]
  },
  {
   "cell_type": "markdown",
   "metadata": {},
   "source": [
    "# Top Octagon"
   ]
  },
  {
   "cell_type": "code",
   "execution_count": null,
   "metadata": {},
   "outputs": [],
   "source": [
    "coords = getshapevalues(height_value=1.0, width=3)\n",
    "plot_octagon(coords)"
   ]
  },
  {
   "cell_type": "code",
   "execution_count": null,
   "metadata": {},
   "outputs": [],
   "source": []
  }
 ],
 "metadata": {
  "kernelspec": {
   "display_name": "Python 3",
   "language": "python",
   "name": "python3"
  },
  "language_info": {
   "codemirror_mode": {
    "name": "ipython",
    "version": 3
   },
   "file_extension": ".py",
   "mimetype": "text/x-python",
   "name": "python",
   "nbconvert_exporter": "python",
   "pygments_lexer": "ipython3",
   "version": "3.7.5"
  }
 },
 "nbformat": 4,
 "nbformat_minor": 4
}
