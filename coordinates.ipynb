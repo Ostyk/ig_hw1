{
 "cells": [
  {
   "cell_type": "code",
   "execution_count": 1,
   "metadata": {},
   "outputs": [],
   "source": [
    "import numpy as np\n",
    "from sympy import * \n",
    "import matplotlib.pyplot as plt\n",
    "plt.rcParams.update({'font.size': 22})"
   ]
  },
  {
   "cell_type": "code",
   "execution_count": 2,
   "metadata": {},
   "outputs": [],
   "source": [
    "rational = lambda x: all(i.exp.is_Integer for i in x.atoms(Pow))\n",
    "\n",
    "def check_value_fmt(val):\n",
    "    if rational(val):\n",
    "         return \"{}\".format(float(val)) \n",
    "    else:\n",
    "        if val>0:\n",
    "            return \"{}\".format(val).replace(\"sqrt\", \"Math.sqrt\")\n",
    "        else:\n",
    "            return \"-{}\".format(abs(val)).replace(\"sqrt\", \"Math.sqrt\")\n",
    "            \n",
    "    \n",
    "def getshapevalues(height_value, vertices=8, width=1, global_ind=0):\n",
    "    coords, coords_symbolic = [], []\n",
    "    \n",
    "    for ind, value  in enumerate(range(vertices), start=1):\n",
    "        x = cos(2*value*pi/vertices) * width\n",
    "        y = sin(2*value*pi/vertices) * width\n",
    "        x_fmt = check_value_fmt(x)\n",
    "        y_fmt = check_value_fmt(y)\n",
    "        fmt_f = \"vec4({}, {}, {}, 1.0), // point {}\".format(x_fmt, y_fmt, height_value, global_ind)\n",
    "        print(fmt_f)\n",
    "        np_x = np.cos(2*value*np.pi/vertices)*width\n",
    "        np_y = np.sin(2*value*np.pi/vertices)*width\n",
    "        #print(np_x, np_y)\n",
    "        fmt_f_v2 = \"vec4({}\\n{}\\n{}),\".format(x_fmt, y_fmt, height_value)\n",
    "        coords_symbolic.append(fmt_f_v2)\n",
    "        coords.append([np_x, np_y])\n",
    "        global_ind+=1\n",
    "    \n",
    "    fmt_f = \"vec4({}, {}, {}, 1.0), // point (centroid) {}\".format(0, 0, height_value, global_ind)\n",
    "    print(fmt_f)\n",
    "    global_ind+=1\n",
    "    return coords, coords_symbolic, global_ind\n",
    "\n",
    "def plot_octagon(coords, coords_symbolic, title):\n",
    "    test = coords[0]\n",
    "    coords.append(test)\n",
    "    xs, ys = zip(*coords) #create lists of x and y values\n",
    "    #xs_sym, ys_sym = zip(*coords_symbolic)\n",
    "    fig, ax = plt.subplots(figsize=(15, 15))\n",
    "\n",
    "    for i in range(len(xs)-1):\n",
    "        fmt = \"{}\".format(coords_symbolic[i])\n",
    "        ax.annotate(fmt, (xs[i], ys[i]))\n",
    "        \n",
    "        \n",
    "\n",
    "    ax.set_title(\"{}\\n\".format(title))\n",
    "    ax.plot(xs,ys)\n",
    "    ax.plot(xs,ys, \".\") \n",
    "    ax.set_aspect('equal')\n",
    "    plt.show() # if you need..."
   ]
  },
  {
   "cell_type": "markdown",
   "metadata": {},
   "source": [
    "# Octagons"
   ]
  },
  {
   "cell_type": "code",
   "execution_count": 159,
   "metadata": {},
   "outputs": [
    {
     "name": "stdout",
     "output_type": "stream",
     "text": [
      "\n",
      "// bottommost octagon\n",
      "vec4(0.6, 0.0, -1.0, 1.0), // point 0\n",
      "vec4(0.3*Math.sqrt(2), 0.3*Math.sqrt(2), -1.0, 1.0), // point 1\n",
      "vec4(0.0, 0.6, -1.0, 1.0), // point 2\n",
      "vec4(-0.3*Math.sqrt(2), 0.3*Math.sqrt(2), -1.0, 1.0), // point 3\n",
      "vec4(-0.6, 0.0, -1.0, 1.0), // point 4\n",
      "vec4(-0.3*Math.sqrt(2), -0.3*Math.sqrt(2), -1.0, 1.0), // point 5\n",
      "vec4(0.0, -0.6, -1.0, 1.0), // point 6\n",
      "vec4(0.3*Math.sqrt(2), -0.3*Math.sqrt(2), -1.0, 1.0), // point 7\n",
      "vec4(0, 0, -1.0, 1.0), // point (centroid) 8\n",
      "\n",
      "// central lower  octagon\n",
      "vec4(0.15, 0.0, -0.2, 1.0), // point 9\n",
      "vec4(0.075*Math.sqrt(2), 0.075*Math.sqrt(2), -0.2, 1.0), // point 10\n",
      "vec4(0.0, 0.15, -0.2, 1.0), // point 11\n",
      "vec4(-0.075*Math.sqrt(2), 0.075*Math.sqrt(2), -0.2, 1.0), // point 12\n",
      "vec4(-0.15, 0.0, -0.2, 1.0), // point 13\n",
      "vec4(-0.075*Math.sqrt(2), -0.075*Math.sqrt(2), -0.2, 1.0), // point 14\n",
      "vec4(0.0, -0.15, -0.2, 1.0), // point 15\n",
      "vec4(0.075*Math.sqrt(2), -0.075*Math.sqrt(2), -0.2, 1.0), // point 16\n",
      "vec4(0, 0, -0.2, 1.0), // point (centroid) 17\n",
      "\n",
      "// central upper octagon\n",
      "vec4(0.15, 0.0, 0.2, 1.0), // point 18\n",
      "vec4(0.075*Math.sqrt(2), 0.075*Math.sqrt(2), 0.2, 1.0), // point 19\n",
      "vec4(0.0, 0.15, 0.2, 1.0), // point 20\n",
      "vec4(-0.075*Math.sqrt(2), 0.075*Math.sqrt(2), 0.2, 1.0), // point 21\n",
      "vec4(-0.15, 0.0, 0.2, 1.0), // point 22\n",
      "vec4(-0.075*Math.sqrt(2), -0.075*Math.sqrt(2), 0.2, 1.0), // point 23\n",
      "vec4(0.0, -0.15, 0.2, 1.0), // point 24\n",
      "vec4(0.075*Math.sqrt(2), -0.075*Math.sqrt(2), 0.2, 1.0), // point 25\n",
      "vec4(0, 0, 0.2, 1.0), // point (centroid) 26\n",
      "\n",
      "// topmost octagon\n",
      "vec4(0.6, 0.0, 1.0, 1.0), // point 27\n",
      "vec4(0.3*Math.sqrt(2), 0.3*Math.sqrt(2), 1.0, 1.0), // point 28\n",
      "vec4(0.0, 0.6, 1.0, 1.0), // point 29\n",
      "vec4(-0.3*Math.sqrt(2), 0.3*Math.sqrt(2), 1.0, 1.0), // point 30\n",
      "vec4(-0.6, 0.0, 1.0, 1.0), // point 31\n",
      "vec4(-0.3*Math.sqrt(2), -0.3*Math.sqrt(2), 1.0, 1.0), // point 32\n",
      "vec4(0.0, -0.6, 1.0, 1.0), // point 33\n",
      "vec4(0.3*Math.sqrt(2), -0.3*Math.sqrt(2), 1.0, 1.0), // point 34\n",
      "vec4(0, 0, 1.0, 1.0), // point (centroid) 35\n"
     ]
    }
   ],
   "source": [
    "# bottommost octagon\n",
    "plot = False\n",
    "global_ind = 0 \n",
    "print(\"\\n// bottommost octagon\")\n",
    "coords, coords_symbolic, global_ind = getshapevalues(height_value=-1.0, width=0.6, global_ind=global_ind)\n",
    "if plot:\n",
    "    plot_octagon(coords, coords_symbolic, title='bottommost')\n",
    "# central lower  octagon\n",
    "print(\"\\n// central lower  octagon\")\n",
    "coords, coords_symbolic, global_ind = getshapevalues(height_value=-0.2, width=0.15, global_ind=global_ind)\n",
    "if plot:\n",
    "    plot_octagon(coords, coords_symbolic, title='central lower')\n",
    "# central upper octagon\n",
    "print(\"\\n// central upper octagon\")\n",
    "coords, coords_symbolic, global_ind = getshapevalues(height_value=0.2, width=0.15, global_ind=global_ind)\n",
    "if plot:\n",
    "    plot_octagon(coords, coords_symbolic, title='central upper')\n",
    "# topmost octagon\n",
    "print(\"\\n// topmost octagon\")\n",
    "coords, coords_symbolic, global_ind = getshapevalues(height_value=1.0, width=0.6, global_ind=global_ind)\n",
    "if plot:\n",
    "    plot_octagon(coords, coords_symbolic, title='topmost')"
   ]
  },
  {
   "cell_type": "code",
   "execution_count": 167,
   "metadata": {},
   "outputs": [
    {
     "name": "stdout",
     "output_type": "stream",
     "text": [
      "tri(0, 1, 8);\n",
      "tri(1, 2, 8);\n",
      "tri(2, 3, 8);\n",
      "tri(3, 4, 8);\n",
      "tri(4, 5, 8);\n",
      "tri(5, 6, 8);\n",
      "tri(6, 7, 8);\n",
      "tri(7, 0, 8);\n",
      "tri(27, 28, 35);\n",
      "tri(28, 29, 35);\n",
      "tri(29, 30, 35);\n",
      "tri(30, 31, 35);\n",
      "tri(31, 32, 35);\n",
      "tri(32, 33, 35);\n",
      "tri(33, 34, 35);\n",
      "tri(34, 27, 35);\n"
     ]
    }
   ],
   "source": [
    "def tri_print(m, n):\n",
    "    for i in range(m,n):\n",
    "        if n<2234:\n",
    "            if i==n-1:\n",
    "                 print(\"tri({}, {}, {});\".format(i, m, n))\n",
    "            else:\n",
    "                print(\"tri({}, {}, {});\".format(i, i+1,  n))\n",
    "        else:\n",
    "            if i==n-1:\n",
    "                 print(\"tri({}, {}, {});\".format(n, i, m))\n",
    "            else:\n",
    "                print(\"tri({}, {}, {});\".format(n, i, i+1))\n",
    "\n",
    "tri_print(0, 8)\n",
    "# tri_print(9, 15)\n",
    "# tri_print(17, 25)\n",
    "tri_print(27, 35)"
   ]
  },
  {
   "cell_type": "code",
   "execution_count": null,
   "metadata": {},
   "outputs": [],
   "source": []
  },
  {
   "cell_type": "code",
   "execution_count": 161,
   "metadata": {},
   "outputs": [
    {
     "data": {
      "text/plain": [
       "48"
      ]
     },
     "execution_count": 161,
     "metadata": {},
     "output_type": "execute_result"
    }
   ],
   "source": [
    "vertices = 2*8*3\n",
    "vertices"
   ]
  },
  {
   "cell_type": "code",
   "execution_count": 162,
   "metadata": {},
   "outputs": [
    {
     "name": "stdout",
     "output_type": "stream",
     "text": [
      "quad(0, 1, 10, 9); \n",
      "quad(1, 2, 11, 10); \n",
      "quad(2, 3, 12, 11); \n",
      "quad(3, 4, 13, 12); \n",
      "quad(4, 5, 14, 13); \n",
      "quad(5, 6, 15, 14); \n",
      "quad(6, 7, 16, 15); \n",
      "quad(7, 0, 9, 16); \n",
      "\n",
      "quad(9, 10, 19, 18); \n",
      "quad(10, 11, 20, 19); \n",
      "quad(11, 12, 21, 20); \n",
      "quad(12, 13, 22, 21); \n",
      "quad(13, 14, 23, 22); \n",
      "quad(14, 15, 24, 23); \n",
      "quad(15, 16, 25, 24); \n",
      "quad(16, 9, 18, 25); \n",
      "\n",
      "quad(18, 19, 28, 27); \n",
      "quad(19, 20, 29, 28); \n",
      "quad(20, 21, 30, 29); \n",
      "quad(21, 22, 31, 30); \n",
      "quad(22, 23, 32, 31); \n",
      "quad(23, 24, 33, 32); \n",
      "quad(24, 25, 34, 33); \n",
      "quad(25, 18, 27, 34); \n"
     ]
    }
   ],
   "source": [
    "perms = lambda r: [(i, i+1) for i in  r]\n",
    "def quad_print(r1,r2):\n",
    "    pr1 = perms(r1)\n",
    "    pr2 = perms(r2)\n",
    "    for i in range(len(r1)):\n",
    "        print(\"quad({}, {}, {}, {}); \".format(*pr1[i], pr2[i][1], pr2[i][0]))\n",
    "    \n",
    "    #print(pr1, pr2)\n",
    "    print(\"quad({}, {}, {}, {}); \".format(pr1[-1][1], pr1[0][0], pr2[0][0], pr2[-1][1]))\n",
    "    \n",
    "quad_print(range(0,7), range(9,16))\n",
    "print()\n",
    "quad_print(range(9, 16), range(18, 25))\n",
    "print()\n",
    "quad_print(range(18, 25), range(27,34))"
   ]
  },
  {
   "cell_type": "code",
   "execution_count": 163,
   "metadata": {},
   "outputs": [
    {
     "data": {
      "text/plain": [
       "144"
      ]
     },
     "execution_count": 163,
     "metadata": {},
     "output_type": "execute_result"
    }
   ],
   "source": [
    "vertices_quad = 8*6*3\n",
    "vertices_quad"
   ]
  },
  {
   "cell_type": "code",
   "execution_count": 164,
   "metadata": {},
   "outputs": [
    {
     "data": {
      "text/plain": [
       "192"
      ]
     },
     "execution_count": 164,
     "metadata": {},
     "output_type": "execute_result"
    }
   ],
   "source": [
    "vertices+vertices_quad"
   ]
  },
  {
   "cell_type": "code",
   "execution_count": 77,
   "metadata": {},
   "outputs": [
    {
     "data": {
      "text/plain": [
       "48"
      ]
     },
     "execution_count": 77,
     "metadata": {},
     "output_type": "execute_result"
    }
   ],
   "source": [
    " quad(7, 0, 9, 16); \n",
    "    \n",
    "pr1[-1][1], pr1[0][0], pr2[0][0], pr2[-1][1]"
   ]
  },
  {
   "cell_type": "code",
   "execution_count": null,
   "metadata": {},
   "outputs": [],
   "source": []
  }
 ],
 "metadata": {
  "kernelspec": {
   "display_name": "Python 3",
   "language": "python",
   "name": "python3"
  },
  "language_info": {
   "codemirror_mode": {
    "name": "ipython",
    "version": 3
   },
   "file_extension": ".py",
   "mimetype": "text/x-python",
   "name": "python",
   "nbconvert_exporter": "python",
   "pygments_lexer": "ipython3",
   "version": "3.7.5"
  }
 },
 "nbformat": 4,
 "nbformat_minor": 4
}
